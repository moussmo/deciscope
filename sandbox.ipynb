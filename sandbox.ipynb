{
 "cells": [
  {
   "cell_type": "code",
   "execution_count": 1,
   "metadata": {},
   "outputs": [],
   "source": [
    "import requests "
   ]
  },
  {
   "cell_type": "code",
   "execution_count": 61,
   "metadata": {},
   "outputs": [
    {
     "data": {
      "text/plain": [
       "{'access_token': 'Jfh2oUW0MWq1UKY935Ly9JnW9QEirf5jekcLRj4uXCiu757IlWORju',\n",
       " 'token_type': 'Bearer',\n",
       " 'expires_in': 3600,\n",
       " 'scope': 'openid resource.READ'}"
      ]
     },
     "execution_count": 61,
     "metadata": {},
     "output_type": "execute_result"
    }
   ],
   "source": [
    "p.json()"
   ]
  },
  {
   "cell_type": "code",
   "execution_count": 2,
   "metadata": {},
   "outputs": [
    {
     "data": {
      "text/plain": [
       "{'id': 'publication',\n",
       " 'context_value': 'cc',\n",
       " 'result': {'b': 'Publié au Bulletin',\n",
       "  'r': 'Publié au Rapport',\n",
       "  'l': 'Publié aux Lettres de chambre',\n",
       "  'c': 'Communiqué',\n",
       "  'n': 'Non publié'}}"
      ]
     },
     "execution_count": 2,
     "metadata": {},
     "output_type": "execute_result"
    }
   ],
   "source": [
    "p = requests.post('https://sandbox-oauth.piste.gouv.fr/api/oauth/token', \n",
    "                  data={\"grant_type\":\"client_credentials\", \"client_id\":\"69021959-e7d7-4faf-bc79-04bc3fed3bc3\", \"client_secret\":\"3c7b3ad7-169c-43d9-b9ea-a4f03394c61d\", \"scope\":\"openid\"}, \n",
    "                  headers={'Content-Type': 'application/x-www-form-urlencoded'})\n",
    "token = p.json()['access_token']\n",
    "header = {'accept': 'application/json',\n",
    "\t\t'Authorization': 'Bearer {}'.format(token)}\n",
    "r = requests.get('https://sandbox-api.piste.gouv.fr/cassation/judilibre/v1.0/taxonomy', params={'id':'publication'}, headers=header)\n",
    "r.json()"
   ]
  },
  {
   "cell_type": "code",
   "execution_count": 6,
   "metadata": {},
   "outputs": [],
   "source": [
    "import time\n",
    "from datetime import datetime, timedelta"
   ]
  },
  {
   "cell_type": "code",
   "execution_count": 3,
   "metadata": {},
   "outputs": [
    {
     "data": {
      "text/plain": [
       "<Response [200]>"
      ]
     },
     "execution_count": 3,
     "metadata": {},
     "output_type": "execute_result"
    }
   ],
   "source": [
    "requests.get('https://sandbox-api.piste.gouv.fr/cassation/judilibre/v1.0/export', params={'batch': 0, 'publication': ['r','c']}, headers= header)"
   ]
  },
  {
   "cell_type": "code",
   "execution_count": 4,
   "metadata": {},
   "outputs": [],
   "source": [
    "results = requests.get('https://sandbox-api.piste.gouv.fr/cassation/judilibre/v1.0/export', params={'batch': 0, 'publication': ['r','c', 'b']}, headers= header).json()['results']"
   ]
  },
  {
   "cell_type": "code",
   "execution_count": 7,
   "metadata": {},
   "outputs": [],
   "source": [
    "end_datetime = datetime(2025,1,7,16,0,0)"
   ]
  },
  {
   "cell_type": "code",
   "execution_count": 24,
   "metadata": {},
   "outputs": [],
   "source": [
    "start_datetime = datetime(2024,12,10,10,0,0)"
   ]
  },
  {
   "cell_type": "code",
   "execution_count": 27,
   "metadata": {},
   "outputs": [
    {
     "data": {
      "text/plain": [
       "{'id': '67626e3bd9347f6c9aef8150',\n",
       " 'source': 'jurinet',\n",
       " 'text': 'COMM.\\n \\n FM\\n \\n \\n \\n COUR DE CASSATION\\n ______________________\\n \\n \\n Audience publique du 18 décembre 2024\\n \\n \\n \\n \\n Cassation partielle\\n \\n \\n M. VIGNEAU, président\\n \\n \\n \\n Arrêt n° 786 F-B\\n \\n Pourvoi n° K 22-21.487 \\n \\n \\n \\n \\n R É P U B L I Q U E F R A N Ç A I S E \\n \\n _________________________\\n \\n AU NOM DU PEUPLE FRANÇAIS\\n _________________________\\n \\n \\n ARRÊT DE LA COUR DE CASSATION, CHAMBRE COMMERCIALE, FINANCIÈRE ET ÉCONOMIQUE, DU 18 DÉCEMBRE 2024\\n \\n 1°/ M. [N] [Y], domicilié [Adresse 3],\\n \\n 2°/ la société World People, société à responsabilité limitée, dont le siège est [Adresse 5],\\n \\n ont formé le pourvoi n° K 22-21.487 contre l\\'arrêt rendu le 19 juillet 2022 par la cour d\\'appel de Versailles (13e chambre), dans le litige les opposant :\\n \\n 1°/ à Mme [V] [F], veuve [Y],\\n \\n 2°/ à Mme [C] [Y],\\n \\n 3°/ à M. [G] [Y],\\n \\n 4°/ à M. [X] [Y],\\n \\n tous quatre domiciliés [Adresse 4],\\n \\n 5°/ à la société [P] [K], société d\\'exercice libéral à responsabilité limitée, dont le siège est [Adresse 2], en la personne de M. [P] [K], pris en qualité d\\'administrateur provisoire de la société World People,\\n \\n 6°/ à la société JSA, dont le siège est [Adresse 1], en la personne de Mme [S] [O], pris en qualité de liquidateur à la liquidation judiciaire de la société World People,\\n \\n défendeurs à la cassation.\\n \\n Mme [F], Mme [C] [Y] et MM. [G] et [X] [Y] ont formé un pourvoi incident contre le même arrêt. \\n \\n Les sociétés [P] [K], World People et JSA ont également formé un pourvoi incident.\\n \\n Les demandeurs au pourvoi principal invoquent, à l\\'appui de leur recours, cinq moyens de cassation. \\n \\n Les premiers et deuxièmes (seconds) demandeurs au pourvoi incident invoquent chacun, à l\\'appui de leur recours, deux moyens de cassation.\\n \\n Le dossier a été communiqué au procureur général.\\n \\n Sur le rapport de Mme Lefeuvre, conseiller référendaire, les observations de la SCP Rocheteau, Uzan-Sarano et Goulet, avocat de M. [Y], de la SARL Matuchansky, Poupot, Valdelièvre et Rameix, avocat de la société [P] [K], ès qualités, de la société JSA, ès qualités, de la SCP Ricard, Bendel-Vasseur, Ghnassia, avocat de Mme [F], Mme [C] [Y], MM. [G] et [X] [Y], après débats en l\\'audience publique du 5 novembre 2024 où étaient présents M. Vigneau, président, Mme Lefeuvre, conseiller référendaire rapporteur, M. Ponsot, conseiller doyen, et Mme Sezer, greffier de chambre,\\n \\n la chambre commerciale, financière et économique de la Cour de cassation, composée des président et conseillers précités, après en avoir délibéré conformément à la loi, a rendu le présent arrêt.\\n \\n Faits et procédure \\n \\n 1. Selon l\\'arrêt attaqué (Versailles, 19 juillet 2022) et les productions, [U] [Y] et [Z] [D] ont constitué à parts égales la SARL World People. [U] [Y] est décédé le 21 avril 2001, en laissant pour lui succéder ses deux enfants issus d\\'une première union, MM. [E] et [N] [Y], ainsi que son épouse, Mme [F],et leurs trois enfants, [C], [G] et [X]. [Z] [D] est décédé le 15 juillet 2008, en l\\'état d\\'un testament léguant ses parts aux enfants de M. [N] [Y], Mme [A] [Y] et M. [W] [Y]. A cette même date, M. [N] [Y] a repris la gérance de la société World People, antérieurement assurée par [Z] [D].\\n \\n 2. Auparavant, le 2 octobre 2000, la société World People avait conclu avec M. [N] [Y], exploitant de l\\'entreprise Le Web, une convention de collaboration prévoyant des prestations croisées. Le 15 novembre 2002, la société Le Web avait été constituée entre M. [N] [Y], détenteur de 999 parts, et [Z] [D], détenteur d\\'une part, qui a repris la convention du 2 octobre 2000. Cette convention a fait l\\'objet d\\'avenants successifs jusqu\\'en 2011.\\n \\n 3. Lui reprochant différentes fautes de gestion, Mme [F], Mme [C] [Y] et MM. [G] et [X] [Y] (les consorts [Y]) ont assigné M. [N] [Y], ainsi que la société World People, aux fins de voir annuler plusieurs assemblées générales auxquelles ils n\\'avaient pas été convoqués, désigner un expert pour évaluer leur préjudice, révoquer M. [N] [Y] de ses fonctions de gérant et mettre en \\x9cuvre sa responsabilité personnelle, et désigner un administrateur provisoire.\\n \\n 4. Le 7 mars 2023, la société World People a été mise en liquidation judiciaire, la société JSA étant désignée liquidateur.\\n \\n Examen des moyens \\n \\n Sur le quatrième moyen du pourvoi principal\\n \\n 5. En application de l\\'article 1014, alinéa 2, du code de procédure civile, il n\\'y a pas lieu de statuer par une décision spécialement motivée sur ce moyen qui n\\'est manifestement pas de nature à entraîner la cassation.\\n \\n Sur le premier moyen du pourvoi principal \\n \\n Enoncé du moyen\\n \\n 6. M. [N] [Y] fait grief à l\\'arrêt de dire que l\\'instance en cours n\\'est pas périmée, alors : \\n \\n « 1°/ que l\\'instance est périmée lorsque aucune des parties n\\'accomplit de diligences pendant deux ans ; que les diligences accomplies par une partie dans une instance n\\'interrompent la péremption de l\\'autre instance que s\\'il existe un lien de dépendance directe et nécessaire entre les deux instances ; que, par un jugement du 8 janvier 2014, le tribunal de commerce de Versailles a, d\\'une part, statué sur les demandes en nullité des décisions de l\\'assemblée générale de la société World People et a, d\\'autre part, sursis à statuer quant à la révocation du gérant, [N] [Y] dans l\\'attente d\\'une expertise qu\\'il a ordonnée avant dire droit ; qu\\'il a été interjeté appel à l\\'encontre du jugement en ce qu\\'il avait statué sur la validité des décisions sociales, sur lequel il a été statué sur renvoi après cassation par un arrêt de la cour d\\'appel de Versailles en date du 19 septembre 2019 ; que ce n\\'est que le 23 septembre 2019, soit plus de deux ans et trois mois après le dépôt du rapport d\\'expertise judiciaire intervenu le 7 juin 2017, que les consorts [Y] ont sollicité la réinscription au rôle de l\\'affaire devant le tribunal de commerce ; que, pour écarter la péremption de l\\'instance, la cour d\\'appel a retenu qu\\' \"il existait un lien de dépendance directe entre l\\'instance pendante devant la cour ayant donné lieu à l\\'arrêt du 19 septembre 2019 et celle encore pendante devant le tribunal de commerce resté saisi des demandes de révocation du gérant et d\\'indemnisation ayant fait l\\'objet du sursis à statuer ordonné dans l\\'attente du dépôt du rapport de l\\'expert\" et que \"la société World People et M. [N] [Y] ont formé une demande de nullité du jugement du 8 janvier 2014 [\\x85] en sorte que les premiers juges ne pouvaient statuer sur les demandes dont ils étaient saisis sans attendre l\\'arrêt à intervenir\" ; qu\\'en statuant ainsi, la cour d\\'appel qui s\\'est fondée sur un motif impropre à établir un lien de dépendance entre les deux instances dès lors que la demande en nullité du jugement ne faisait pas obstacle à la poursuite de l\\'instance devant les premiers juges sur les chefs du litige qui n\\'avaient pas été tranchés par ledit jugement, a privé sa décision de base légale au regard de l\\'article 386 du code de procédure civile ;\\n \\n 2°/ que l\\'instance est périmée lorsque aucune des parties n\\'accomplit de diligences pendant deux ans ; que les diligences accomplies par une partie dans une instance n\\'interrompent la péremption de l\\'autre instance que s\\'il existe un lien de dépendance directe et nécessaire entre les deux instances ; que pour établir un lien de dépendance nécessaire entre les deux instances, la cour d\\'appel a considéré que \"les consorts [Y] ont sollicité l\\'annulation des assemblées des années 2002 à 2010, [dont] celle du 30 juillet 2008 ayant désigné M. [N] [Y] en qualité de gérant de la société World People, en sorte que les premiers juges ne pouvaient statuer sur les demandes dont ils étaient saisis sans attendre l\\'arrêt à intervenir\" ; qu\\'en statuant ainsi, la cour d\\'appel qui s\\'est fondée sur un motif impropre à établir un lien de dépendance entre les deux instances dès lors que la demande en nullité de la désignation du gérant est indépendante de la demande en révocation de celui-ci, a privé son arrêt de base légale au regard de l\\'article 386 du code de procédure civile. »\\n \\n Réponse de la Cour \\n \\n 7. Ayant retenu, dans l\\'exercice de son pouvoir souverain d\\'appréciation, qu\\'il existait un lien de dépendance direct et nécessaire entre l\\'instance ayant donné lieu à l\\'arrêt du 19 septembre 2019 et celle encore pendante devant le tribunal de commerce, la cour d\\'appel en a exactement déduit que les actes accomplis par les consorts [Y] à l\\'occasion de la première, notamment leurs dernières conclusions notifiées moins de deux ans après le dépôt du rapport d\\'expertise, avaient eu un effet interruptif sur la seconde, et, par voie de conséquence, que l\\'instance n\\'était pas périmée.\\n \\n 8. Le moyen n\\'est donc pas fondé.\\n \\n Sur le deuxième moyen\\n \\n Enoncé du moyen\\n \\n 9. M. [N] [Y] fait grief à l\\'arrêt de le condamner à payer une certaine somme à la société World People, de le révoquer de ses fonctions de gérant et de désigner la société [P] [K] en qualité d\\'administrateur provisoire de la société World People, alors :\\n \\n « 1°/ que les conventions intervenues directement ou par personnes interposées entre la société et l\\'un de ses gérants ou associés sont soumises à des dispositions spéciales, distinctes de celles, générales, relatives à la responsabilité pour faute de gestion du gérant ; qu\\'en l\\'espèce, pour condamner M. [N] [Y] à payer à la société World People la somme de 1 932 514 euros, la cour d\\'appel a retenu qu\\'il était responsable \"d\\'avoir poursuivi les relations contractuelles entre la société World People et la société Le Web dont il détenait 999/1000 parts du capital social à des conditions financières totalement défavorables pour la société World People qu\\'il dirigeait\", jugeant qu\\' \"il s\\'agi[ssait] d\\'une faute de gestion\" ; qu\\'en appliquant les dispositions relatives aux fautes de gestion du gérant, quand le litige concernait une convention réglementée, la cour d\\'appel a violé par fausse application l\\'article L. 223-22 du code de commerce et par refus d\\'application l\\'article L. 223-19 de ce code ;\\n \\n 2°/ que le gérant ne supporte les conséquences de la convention réglementée préjudiciable à la société qu\\'en l\\'absence d\\'approbation de ladite convention ; qu\\'en condamnant M. [N] [Y] à payer à la société World People la somme de 1 932 514 euros en réparation des conséquences dommageables de la convention conclue entre la société World People et la société Le Web pour l\\'ensemble de la période 2009-2013, tandis que la conclusion et la poursuite de cette convention et de ses avenants avaient été ratifiées par les assemblées générales ordinaires, à l\\'encontre desquelles l\\'action en nullité a été jugée prescrite par l\\'arrêt de la cour d\\'appel de Versailles du 19 septembre 2019, à l\\'exception des seules assemblées générales de 2010 et 2012, pour les exercices 2009/2010 et 2012/2013, la cour d\\'appel a violé l\\'article L. 223-19 du code de commerce ;\\n \\n 3°/ que les décisions prises en assemblée générale s\\'imposent aux associés, sous réserve de leur annulation ; qu\\'en l\\'espèce, pour condamner M. [N] [Y] à payer à la société World People la somme de 1 932 514 euros, en réparation des conséquences dommageables de la convention conclue entre la société World People et la société Le Web, la cour d\\'appel a jugé que \"M. [N] [Y] ne [pouvait] s\\'exonérer de sa responsabilité en raison de l\\'absence des consorts [Y] aux différentes assemblées générales ayant approuvé les comptes\" ; qu\\'en statuant ainsi, quand l\\'absence des consorts [Y] aux assemblées générales ayant approuvé les comptes était indifférente dès lors que leurs demandes en annulation de celles-ci ont été jugées prescrites, la cour d\\'appel a statué par un motif inopérant, privant ainsi sa décision de base légale au regard des articles L. 223-17 et L. 223-19 du code de commerce ;\\n \\n 4°/ que le gérant contractant, directement ou par personne interposée, avec la société ne doit supporter que les conséquences du contrat préjudiciables à la société ; que la cour d\\'appel a relevé que \"l\\'avenant à la convention signé le 20 novembre 2008 [\\x85] prévo[yait] que les prestations de la société Le Web au bénéfice de la société World People [seraient] facturées forfaitairement par application d\\'un taux de 25 % sur le chiffre d\\'affaires réalisé par la société World People\" et que \" l\\'avenant à la convention signé le 13 juin 2011 [\\x85] prévo[yait] que les prestations de la société Le Web au bénéfice de la société World People [seraient] facturées forfaitairement par application d\\'un taux de 20 % sur le chiffre d\\'affaires réalisé par la société World People\" avant de constater que \"le taux de 25 % puis de 20 % sur le chiffre d\\'affaires de la société World People n\\'était en réalité pas appliqué\", ce dont il résultait que la convention de collaboration telle que modifiée par les avenants de 2008 et 2011 n\\'avait pas été respectée ; qu\\'en condamnant néanmoins M. [N] [Y] à payer à la société World People la somme de 1 932 514 euros en réparation des conséquences dommageables de la convention conclue entre la société World People et la société Le Web, tandis qu\\'il résultait de ses propres constatations que le préjudice ne résultait pas de l\\'exécution de la convention mais de sa méconnaissance, la cour d\\'appel, qui n\\'a pas tiré les conséquences légales de ses propres constatations, a violé l\\'article L. 223-19 du code de commerce ;\\n \\n 5°/ que le gérant contractant, directement ou par personne interposée, avec la société ne doit supporter que les conséquences du contrat préjudiciables à la société ; qu\\'en l\\'espèce, pour condamner M. [N] [Y] à payer à la société World People la somme de 1 932 514 euros, la cour d\\'appel a retenu qu\\'il résultait du rapport d\\'expertise que \"pour la période de 2009 à 2013 le total qui aurait pu être facturé par la société Le Web à la société World People dans des conditions normales [était] de 1 340 090 euros sur la période de 2009 à 2013 alors [\\x85] qu\\'a été facturée par la société Le Web à la société World People pour cette même période une somme totale de 3 212 446 euros, soit un trop facturé de 1 872 356 euros qui constitue le préjudice de la société\" ; qu\\'en statuant ainsi, cependant qu\\'il résultait de ses propres constatations que les sommes effectivement facturées ne correspondaient pas aux stipulations de la convention entre les sociétés World People et Le Web, ce dont il résultait que le préjudice résultant du contrat ne pouvait être égal qu\\'à la différence entre le montant qui aurait dû être normalement facturé, calculé par l\\'expert, et celui qui aurait dû être facturé en application du contrat, la cour d\\'appel a violé l\\'article L. 223-19 du code de commerce. »\\n \\n Réponse de la Cour\\n \\n 10. La possibilité, prévue à l\\'article L. 223-19, alinéa 4, du code de commerce, de mettre à la charge du gérant les conséquences préjudiciables à la société des conventions réglementées non approuvées n\\'est pas exclusive de la mise en jeu de sa responsabilité sur le fondement de l\\'article L. 223-22 du même code, que ces conventions aient ou non été approuvées.\\n \\n 11. Le moyen, qui, en chacune de ses branches, postule le contraire, n\\'est donc pas fondé.\\n \\n Sur le troisième moyen\\n \\n Enoncé du moyen\\n \\n 12. M. [N] [Y] fait le même grief à l\\'arrêt, alors :\\n \\n « 1°/ que les conventions intervenues directement ou par personnes interposées entre la société et l\\'un de ses gérants ou associés sont soumises à des dispositions spéciales, distinctes de celles, générales, relatives à la responsabilité pour faute de gestion du gérant ; qu\\'en l\\'espèce, pour condamner M. [N] [Y] à payer à la société World People la somme de 1 932 514 euros, la cour d\\'appel a retenu que \"la cession à hauteur de 37 251 euros [des parts sociales de la SCI VJC au profit de M. [N] [Y]], sans être autorisée par l\\'assemblée générale de la société World People, ne s\\'est pas faite dans des conditions normales\" pour en déduire qu\\' \"il s\\'agi[ssait] également d\\'une faute de gestion imputable au gérant de la société World People\" ; qu\\'en appliquant les dispositions relatives aux fautes de gestion du gérant, quand le litige concernait une convention réglementée, la cour d\\'appel a violé par fausse application l\\'article L. 223-22 du code de commerce et par refus d\\'application l\\'article L. 223-19 de ce code ;\\n \\n 2°/ que les conventions entre la société et l\\'un de ses gérants ou associés ne sont pas soumises à autorisation préalable mais seulement à approbation par l\\'assemblée générale ; qu\\'en l\\'espèce, il ressort de la procédure que la cession de la participation de la société World People dans la SCI VJC à M. [N] [Y] a été expressément approuvée par l\\'assemblée générale du 29 novembre 2013 ; que, pour condamner M. [N] [Y] à payer à la société World People la somme de 1 932 514 euros, la cour d\\'appel a retenu que \"la cession à hauteur de 37 251 euros, sans être autorisée par l\\'assemblée générale de la société World People, ne s\\'est pas faite dans des conditions normales\" ; qu\\'en statuant ainsi, la cour d\\'appel a, en violation de l\\'article L. 223-19 du code de commerce, ajouté une condition, l\\'autorisation de la cession, que ce texte ne prévoit pas ;\\n \\n 3°/ que le gérant contractant, directement ou par personne interposée, avec la société ne doit supporter que les conséquences du contrat préjudiciables à la société ; qu\\'en l\\'espèce, l\\'expert a évalué les parts sociales de la SCI VJC à 9 740,88 euros, en déduisant de la valeur de l\\'immeuble (1 111 671 euros) le montant des emprunts restant à rembourser au 31 décembre 2011 (151 582,78 euros), avant de conclure, à propos de la cession de ces parts qu\\'\"il serait équitable de verser plus que les 37.251 euros déjà payés. S\\'il partage notre analyse, le magistrat pourra faire sa propre estimation d\\'un complément compris, par exemple, entre zéro et 60.158 euros, voire plus\" ; qu\\'en se bornant, pour évaluer le préjudice de la société World People, à reprendre l\\'évaluation de la valeur des parts sociales par l\\'expert, sans rechercher, comme elle y était invitée, s\\'il n\\'y avait pas lieu de déduire non seulement le montant de l\\'emprunt restant à rembourser, mais également la totalité des mensualités qui avaient d\\'ores et déjà été remboursées par M. [N] [Y] sur ses deniers personnels, la cour d\\'appel a privé sa décision de base légale au regard de l\\'article L. 223-19 du code de commerce. »\\n \\n Réponse de la Cour\\n \\n 13. La cour d\\'appel ayant, à bon droit, fait application des dispositions de l\\'article L. 223-22 du commerce pour statuer sur la demande d\\'indemnisation du préjudice résultant de la cession, par M. [N] [Y], des parts de la société VJC détenues par la société World People, le moyen, qui, en chacune de ses branches, invoque une violation de l\\'article L. 223-19 du même code, est inopérant.\\n \\n Sur le cinquième moyen\\n \\n Enoncé du moyen\\n \\n 14. M. [N] [Y] fait grief à l\\'arrêt de le condamner à payer la somme de 2 000 euros à chacun des consorts [Y] au titre du préjudice moral, alors :\\n \\n « 1°/ que la responsabilité civile suppose un lien de causalité entre la faute et le dommage ; que pour condamner M. [N] [Y] à payer à chacun des consorts [Y] la somme de 2 000 euros, la cour d\\'appel, par des motifs expressément adoptés, a retenu que \"les consorts [Y] ont été contraints de faire valoir leurs droits et justifient de conséquences sur leur vie privée du fait de la durée de la procédure engagée\" ; qu\\'en statuant ainsi, tandis que les seules \"conséquences sur leur vie privée\" invoquées par les consorts [Y] consistaient en la perte de son emploi par Mme [Y], laquelle n\\'était pas la conséquence des fautes de gestion retenues par les juges du fond, mais résultait d\\'un licenciement pour faute grave confirmé par une décision prud\\'homale, la cour d\\'appel s\\'est fondée sur un motif impropre à établir que les fautes alléguées à l\\'encontre de M. [N] [Y] auraient causé le préjudice invoqué par les consorts [Y] et a privé sa décision de base légale au regard de l\\'article 1382 du code civil, devenu l\\'article 1240 de ce code ;\\n \\n 2°/ que la responsabilité civile suppose un lien de causalité entre la faute et le dommage ; que, pour condamner M. [N] [Y] à payer à chacun des consorts [Y] la somme de 2 000 euros, la cour d\\'appel, par des motifs expressément adoptés, a retenu que \"les consorts [Y] ont été contraints de faire valoir leurs droits et justifient de conséquences sur leur vie privée du fait de la durée de la procédure engagée\" ; qu\\'en statuant ainsi, quand la durée de la procédure n\\'est pas imputable à M. [N] [Y], dès lors que la cour d\\'appel a cru pouvoir retenir que \"les premiers juges ne pouvaient statuer sur les demandes dont ils étaient saisis sans attendre l\\'arrêt à intervenir\" dans l\\'instance ayant abouti à l\\'arrêt du 19 septembre 2019, lequel a jugé prescrite les demandes des consorts [Y], la cour d\\'appel s\\'est fondée sur un motif impropre à établir que les fautes alléguées à l\\'encontre de M. [N] [Y] auraient causé le préjudice invoqué par les consorts [Y] et a privé sa décision de base légale au regard de l\\'article 1382 du code civil, devenu l\\'article 1240 de ce code. »\\n \\n Réponse de la Cour\\n \\n 15. D\\'une part, il ne ressort ni de l\\'arrêt ni des conclusions d\\'appel de M. [N] [Y] que celui-ci ait soutenu que la perte d\\'emploi de Mme [Y] ne résultait pas des fautes de gestion retenues par les premiers juges mais d\\'un licenciement pour faute grave dont l\\'intéressée aurait fait l\\'objet, et qu\\'il en ait tiré la conséquence que le préjudice moral invoqué par les consorts [Y] ne lui était pas imputable.\\n \\n 16. D\\'autre part, l\\'arrêt retient que les consorts [Y] ont été contraints de faire valoir leurs droits et qu\\'ils justifient de conséquences sur leur vie privée du fait de la durée de la procédure engagée.\\n \\n 17. En l\\'état de ces constatations et appréciations, dont il résulte l\\'existence d\\'un lien de causalité entre les fautes invoquées à l\\'encontre de M. [N] [Y] et le préjudice subi par les consorts [Y], la cour d\\'appel a légalement justifié sa décision de condamner le premier à payer à chacun des seconds la somme de 2 000 euros à titre de dommages et intérêts. \\n \\n 18. Irrecevable en sa première branche, comme étant nouveau et mélangé de fait et de droit, le moyen n\\'est pas fondé pour le surplus.\\n \\n Mais sur le premier moyen du pourvoi incident formé par les consorts [Y] et sur le premier moyen du pourvoi incident formé par les sociétés World People, [P] [K] et JSA, rédigés en termes identiques \\n \\n Enoncé du moyen\\n \\n 19. Les consorts [Y] et les sociétés World People, [P] [K] et JSA font grief à l\\'arrêt de limiter à la somme de 1 932 514 euros la condamnation de M. [N] [Y] à l\\'égard de la société World People, alors « que le juge ne peut refuser de réparer le dommage dont il a constaté l\\'existence en son principe, motif pris de l\\'insuffisance des preuves qui lui sont fournies par les parties ; que la cour d\\'appel a retenu que M. [N] [Y] avait commis une faute de gestion en mettant à la disposition de la société Le Web sans contrepartie la base de données textuelles de la société World People ; que pour rejeter néanmoins le demande en indemnisation formée à ce titre dans l\\'intérêt de la société World People, la cour d\\'appel a retenu que \"le préjudice doit être évalué en fonction de la marge commerciale brute dont la victime du dommage a été privée de sorte que doivent être déduits du chiffre d\\'affaires qu\\'elle n\\'a pas réalisé les coûts variables qu\\'elle n\\'a pas eu à exposer\", que \"les consorts [Y] se contentent de réclamer le paiement de la somme de 69 900 euros par an au titre de la redevance sans calculer la marge commerciale brute dont la société World People a été privée du fait de la non perception de cette redevance et [que] la cour ne dispose pas des éléments lui permettant de calculer cette marge\" ; qu\\'en refusant ainsi d\\'évaluer, fût-ce en ordonnant une mesure d\\'instruction complémentaire, le montant d\\'un dommage dont elle avait constaté l\\'existence en son principe, la cour d\\'appel a violé l\\'article 4 du code civil. »\\n \\n Réponse de la Cour\\n \\n Vu l\\'article 4 du code civil :\\n \\n 20. En application de ce texte, le juge ne peut refuser d\\'indemniser un préjudice dont il constate l\\'existence en son principe en se fondant sur l\\'insuffisance des preuves qui lui sont fournies par les parties.\\n \\n 21. Pour limiter le montant de la condamnation de M. [N] [Y] à la somme de 1 932 514 euros, l\\'arrêt, après avoir énoncé que le préjudice subi par la société World People du fait de l\\'absence de paiement d\\'une redevance au titre de l\\'utilisation, par la société Le Web, de sa base de données ne peut consister en une perte de chiffre d\\'affaires mais qu\\'il doit être évalué en fonction de la marge commerciale brute dont la société World People a été privée, de sorte que doivent être déduits du chiffre d\\'affaires non réalisé les coûts variables non exposés, retient que les consorts [Y] se bornent à réclamer le paiement de la somme de 69 900 euros par an sans calculer la marge commerciale brute dont la société World People a été privée du fait de la non-perception de cette redevance, ajoutant que la cour d\\'appel ne dispose pas des éléments lui permettant de calculer cette marge.\\n \\n 22. En statuant ainsi, alors qu\\'il lui incombait d\\'évaluer le préjudice dont elle avait constaté l\\'existence en son principe, au besoin en ordonnant un complément d\\'expertise, la cour d\\'appel a violé le texte susvisé.\\n \\n Et sur le second moyen du pourvoi incident formé par les consorts [Y] et sur le second moyen du pourvoi incident formé par les sociétés World People, [P] [K] et JSA, rédigés en termes identiques\\n \\n Enoncé du moyen\\n \\n 23. Les consorts [Y] et les sociétés World People, [P] [K] et JSA font le même grief à l\\'arrêt, alors « que le juge ne peut refuser de réparer le dommage dont il a constaté l\\'existence en son principe, motif pris de l\\'insuffisance des preuves qui lui sont fournies par les parties ; que la cour d\\'appel a retenu que M. [N] [Y] avait commis une faute de gestion en poursuivant \"les relations contractuelles entre la société World People et la société Le Web dont il détenait 999/1000 parts du capital social à des conditions financières totalement défavorables pour la société World People qu\\'il dirigeait\" ; que pour débouter néanmoins Mme [V] [Y] et ses enfants de leur demande d\\'indemnisation de la société World People à ce titre pour la période postérieure à 2013, la cour d\\'appel a retenu que \"les consorts [Y] n\\'apportent aucun élément chiffré pour la période postérieure [à 2013] en sorte qu\\'aucune somme ne peut être allouée à la société World People à ce titre\" ; qu\\'en refusant ainsi d\\'évaluer, fût-ce en ordonnant une mesure d\\'instruction complémentaire, le montant d\\'un dommage dont elle avait constaté l\\'existence en son principe, la cour d\\'appel a violé l\\'article 4 du code civil. »\\n \\n Réponse de la Cour\\n \\n Vu l\\'article 4 du code civil :\\n \\n 24. Pour limiter le montant de la condamnation de M. [N] [Y] à la somme de 1 932 514 euros, l\\'arrêt, après avoir énoncé que le préjudice subi par la société World People du fait de la poursuite des relations contractuelles avec la société Le Web consiste en une surfacturation des prestations effectuées par cette dernière, retient que les consorts [Y] n\\'apportent aucun élément chiffré pour la période postérieure, de sorte qu\\'aucune somme ne peut être allouée à la société World People pour cette période.\\n \\n 25. En statuant ainsi, alors qu\\'elle avait constaté l\\'existence du préjudice subi par la société World People en son principe, de sorte qu\\'elle devait procéder à son évaluation, au besoin en ordonnant un complément d\\'expertise, la cour d\\'appel a violé le texte susvisé.\\n \\n Portée de la cassation\\n \\n 26. Les deuxième, troisième et quatrième moyens du pourvoi principal étant rejetés, la portée de la cassation est limitée aux chefs de demandes de dommages et intérêts visés pas les pourvois incidents.\\n \\n PAR CES MOTIFS, la Cour :\\n \\n CASSE ET ANNULE, mais seulement en ce qu\\'il limite à 1 932 514 euros avec intérêts au taux légal à compter de l\\'arrêt le montant des sommes que M. [N] [Y] est condamné à payer à la société World People et en ce qu\\'il statue sur les dépens et l\\'application de l\\'article 700 du code de procédure civile, l\\'arrêt rendu le 19 juillet 2022, entre les parties, par la cour d\\'appel de Versailles ;\\n \\n Remet, sur ces points, l\\'affaire et les parties dans l\\'état où elles se trouvaient avant cet arrêt et les renvoie devant la cour d\\'appel de Paris ;\\n \\n Condamne M. [N] [Y] aux dépens ; \\n \\n En application de l\\'article 700 du code de procédure civile, rejette la demande formée par M. [N] [Y] et le condamne à payer à Mme [F], Mme [C] [Y] et MM. [G] et [X] [Y] la somme globale de 3 000 euros et aux sociétés World People, [P] [K], prise en la personne de M. [K], en sa qualité d\\'administrateur provisoire de la société World People et JSA, prise en la personne de Mme [O], en sa qualité de liquidateur de la société World People, la somme globale de 3 000 euros ; \\n \\n Dit que sur les diligences du procureur général près la Cour de cassation, le présent arrêt sera transmis pour être transcrit en marge ou à la suite de l\\'arrêt partiellement cassé ;\\n \\n Ainsi fait et jugé par la Cour de cassation, chambre commerciale, financière et économique, et prononcé par le président en son audience publique du dix-huit décembre deux mille vingt-quatre.',\n",
       " 'jurisdiction': 'cc',\n",
       " 'chamber': 'comm',\n",
       " 'number': '22-21.487',\n",
       " 'numbers': ['22-21.487'],\n",
       " 'ecli': 'ECLI:FR:CCASS:2024:CO00786',\n",
       " 'formation': 'frh',\n",
       " 'publication': ['b'],\n",
       " 'decision_date': '2024-12-18',\n",
       " 'decision_datetime': '2024-12-17T23:00:00.000Z',\n",
       " 'update_date': '2024-12-23',\n",
       " 'update_datetime': '2024-12-23T13:21:17.000Z',\n",
       " 'solution': 'cassation',\n",
       " 'type': 'other',\n",
       " 'summary': \"La possibilité, prévue à l'article L. 223-19, alinéa 4, du code de commerce, de mettre à la charge du gérant les conséquences préjudiciables à la société des conventions réglementées non approuvées n'est pas exclusive de la mise en jeu de sa responsabilité sur le fondement de l'article L. 223-22 du même code, que ces conventions aient ou non été approuvées\",\n",
       " 'themes': ['societe a responsabilite limitee',\n",
       "  'conventions réglementées',\n",
       "  'responsabilité du gérant',\n",
       "  \"responsabilité sur le fondement de l'article l. 223-22 du code de commerce\",\n",
       "  'convention non approuvée',\n",
       "  \"absence d'influence\"],\n",
       " 'nac': None,\n",
       " 'portalis': None,\n",
       " 'files': [],\n",
       " 'zones': {'introduction': [{'start': 0, 'end': 2560}],\n",
       "  'expose': [{'start': 2560, 'end': 4216}],\n",
       "  'moyens': [{'start': 8649, 'end': 14562},\n",
       "   {'start': 15045, 'end': 18230},\n",
       "   {'start': 18645, 'end': 20963},\n",
       "   {'start': 22107, 'end': 23870},\n",
       "   {'start': 25249, 'end': 26666},\n",
       "   {'start': 4216, 'end': 4282},\n",
       "   {'start': 4505, 'end': 8001}],\n",
       "  'motivations': [{'start': 8001, 'end': 8649},\n",
       "   {'start': 14562, 'end': 15045},\n",
       "   {'start': 18230, 'end': 18645},\n",
       "   {'start': 20963, 'end': 22107},\n",
       "   {'start': 23870, 'end': 25249},\n",
       "   {'start': 26666, 'end': 27737},\n",
       "   {'start': 4282, 'end': 4505}],\n",
       "  'dispositif': [{'start': 27737, 'end': 29203}]},\n",
       " 'contested': {'date': '2022-07-19',\n",
       "  'title': \"Cour d'appel de Versailles\\n13\",\n",
       "  'jurisdiction': \"Cour d'appel de Versailles\",\n",
       "  'chamber': '13',\n",
       "  'solution': 'Infirme partiellement, réforme ou modifie certaines dispositions de la décision déférée',\n",
       "  'number': '21/04624'},\n",
       " 'forward': None,\n",
       " 'timeline': [{'date': '2022-07-19',\n",
       "   'title': \"Cour d'appel de Versailles\\n13\",\n",
       "   'jurisdiction': \"Cour d'appel de Versailles\",\n",
       "   'chamber': '13',\n",
       "   'solution': 'Infirme partiellement, réforme ou modifie certaines dispositions de la décision déférée',\n",
       "   'number': '21/04624'},\n",
       "  {'date': '2024-12-18',\n",
       "   'title': 'Cour de cassation\\nChambre commerciale financière et économique',\n",
       "   'jurisdiction': 'Cour de cassation',\n",
       "   'chamber': 'Chambre commerciale financière et économique',\n",
       "   'solution': 'Cassation',\n",
       "   'number': 'K2221487'}],\n",
       " 'partial': False,\n",
       " 'visa': [{'title': 'Article 4 du code civil.'}],\n",
       " 'rapprochements': [],\n",
       " 'legacy': {},\n",
       " 'titlesAndSummaries': [{'titles': ['SOCIETE A RESPONSABILITE LIMITEE',\n",
       "    'Conventions réglementées',\n",
       "    'Responsabilité du gérant',\n",
       "    \"Responsabilité sur le fondement de l'article L. 223-22 du code de commerce\",\n",
       "    'Convention non approuvée',\n",
       "    \"Absence d'influence\"],\n",
       "   'summary': \"La possibilité, prévue à l'article L. 223-19, alinéa 4, du code de commerce, de mettre à la charge du gérant les conséquences préjudiciables à la société des conventions réglementées non approuvées n'est pas exclusive de la mise en jeu de sa responsabilité sur le fondement de l'article L. 223-22 du même code, que ces conventions aient ou non été approuvées\",\n",
       "   'secondaryTitles': []}],\n",
       " 'particularInterest': False}"
      ]
     },
     "execution_count": 27,
     "metadata": {},
     "output_type": "execute_result"
    }
   ],
   "source": [
    "[decision for decision in results if start_datetime<=datetime.strptime(decision['decision_datetime'], '%Y-%m-%dT%H:%M:%S.%fZ')<=end_datetime][-1]"
   ]
  },
  {
   "cell_type": "code",
   "execution_count": 30,
   "metadata": {},
   "outputs": [
    {
     "data": {
      "text/plain": [
       "'2024-12-17T23:00:00.000Z'"
      ]
     },
     "execution_count": 30,
     "metadata": {},
     "output_type": "execute_result"
    }
   ],
   "source": [
    "results[0]['decision_datetime']"
   ]
  },
  {
   "cell_type": "code",
   "execution_count": 33,
   "metadata": {},
   "outputs": [
    {
     "data": {
      "text/plain": [
       "datetime.datetime(2024, 12, 17, 23, 0)"
      ]
     },
     "execution_count": 33,
     "metadata": {},
     "output_type": "execute_result"
    }
   ],
   "source": [
    "datetime.strptime(results[0]['decision_datetime'], '%Y-%m-%dT%H:%M:%S.%fZ')"
   ]
  },
  {
   "cell_type": "code",
   "execution_count": 1,
   "metadata": {},
   "outputs": [],
   "source": [
    "from looker.cassation_looker import look_cassation_decisions\n",
    "\n",
    "decisions = look_cassation_decisions()"
   ]
  },
  {
   "cell_type": "code",
   "execution_count": 5,
   "metadata": {},
   "outputs": [
    {
     "data": {
      "text/plain": [
       "{'id': '677cd4ade98b05241b5927ff',\n",
       " 'source': 'jurinet',\n",
       " 'text': \"N° C 23-85.930 F-B\\n \\n N° 00012\\n \\n \\n LR\\n 7 JANVIER 2025\\n \\n \\n REJET\\n \\n \\n M. BONNAL président,\\n \\n \\n \\n \\n \\n \\n \\n \\n R É P U B L I Q U E F R A N Ç A I S E\\n ________________________________________\\n \\n \\n AU NOM DU PEUPLE FRANÇAIS\\n _________________________\\n \\n \\n ARRÊT DE LA COUR DE CASSATION, CHAMBRE CRIMINELLE, \\n DU 7 JANVIER 2025\\n \\n \\n \\n La société [1] a formé un pourvoi contre l'arrêt de la cour d'appel de Nîmes, chambre correctionnelle, en date du 5 octobre 2023, qui, pour infraction à la réglementation des transports routiers, l'a condamnée à 1 500 euros d'amende.\\n \\n Des mémoires et des observations complémentaires ont été produits.\\n \\n Sur le rapport de M. Maziau, conseiller, les observations de la SCP Spinosi, avocat de la société [1], et les conclusions de M. Lagauche, avocat général, après débats en l'audience publique du 26 novembre 2024 où étaient présents M. Bonnal, président, M. Maziau, conseiller rapporteur, Mme Labrousse, conseiller de la chambre, et Mme Le Roch, greffier de chambre,\\n \\n la chambre criminelle de la Cour de cassation, composée en application de l'article 567-1-1 du code de procédure pénale, des président et conseillers précités, après en avoir délibéré conformément à la loi, a rendu le présent arrêt.\\n \\n Faits et procédure\\n \\n 1. Il résulte de l'arrêt attaqué et des pièces de procédure ce qui suit.\\n \\n 2. Le 5 octobre 2020, M. [S] [E], chauffeur routier ukrainien, salarié de la société de droit polonais [1] (la société), a été contrôlé par les agents de la direction régionale environnement aménagement et logement (DREAL) d'Occitanie.\\n \\n 3. Le 28 octobre suivant, un procès-verbal de constatations a été rédigé pour infraction à la réglementation sur le repos hebdomadaire dans les transports routiers.\\n \\n 4. Par ordonnance pénale du 3 février 2021, la société a été déclarée coupable de l'infraction reprochée et condamnée à une amende contraventionnelle de 750 euros.\\n \\n 5. La société ayant formé opposition à cette décision, elle a été citée devant le tribunal de police du chef susvisé.\\n \\n 6. Par jugement du 8 mars 2022, le tribunal de police l'a déclarée coupable et l'a condamnée à une amende de 750 euros.\\n \\n 7. La société a interjeté appel. \\n \\n Examen des moyens\\n \\n Sur le deuxième moyen, pris en sa cinquième branche, et le quatrième moyen\\n \\n 8. Les griefs ne sont pas de nature à permettre l'admission du pourvoi au sens de l'article 567-1-1 du code de procédure pénale.\\n \\n Sur les premier et troisième moyens\\n \\n Enoncé des moyens\\n \\n 9. Le premier moyen critique l'arrêt attaqué en ce qu'il a confirmé le jugement entrepris en ce qu'il a rejeté l'exception de nullité tirée de l'illégalité du contrôle du repos hebdomadaire normal mené a posteriori, alors : \\n \\n « 1°/ que d'une part, il résulte des dispositions du règlement (CE) n° 561/2006 du Parlement européen et du Conseil du 15 mars 2006 et de la clarification de la Commission européenne adressée à l'IRU (International Road Union) au sujet des modalités du contrôle des prises de repos hebdomadaire normal que les autorités nationales de contrôle ne peuvent exiger des conducteurs qu'ils fournissent des documents attestant ne pas avoir passé leur temps de repos hebdomadaire normal, précédant l'inspection routière, dans leur véhicule ; qu'il en découle que les conducteurs ou les sociétés qui les emploient ne peuvent être condamnés à une amende pour non-respect de l'interdiction faite aux conducteurs de prendre leur repos hebdomadaire régulier dans la cabine du véhicule uniquement dans le cas où ils seraient surpris pendant leur repos hebdomadaire régulier à l'intérieur du véhicule au moment du contrôle ; qu'en l'espèce, en rejetant l'exception de nullité tirée de l'illégalité du contrôle du repos hebdomadaire normal du conducteur effectué par les agents de la DREAL a posteriori, aux motifs que « cet argument relève du fond et non pas des conditions du contrôle à proprement parler » et que « le contrôle effectué le lundi 5 octobre 2020 à 9H50 a eu lieu 2H30 après la fin du repos hebdomadaire ; l'infraction a été constatée dans les deux jours précédant le constat et, par conséquent, a bien été effectué dans la période de contrôle autorisée par les normes européennes ci-dessus rappelées » (arrêt, pp. 4 et 5), la cour d'appel a méconnu les dispositions du règlement (CE) n° 561/2006 du Parlement européen et du Conseil du 15 mars 2006, la clarification de la Commission européenne adressée à l'IRU, les articles R. 3315-11, L. 3313-3 du code des transports, 111-4 du code pénal, 591 et 593 du code de procédure pénale ;\\n \\n 2°/ que d'autre part, il résulte de l'article 267 du TFUE que lorsqu'une question préjudicielle en interprétation du traité est soulevée devant une juridiction d'un des Etats membres dont les décisions sont susceptibles de recours, cette juridiction peut demander à la CJUE de statuer sur la question si elle estime qu'une décision sur ce point est nécessaire pour rendre son jugement ; que, par ailleurs, l'article 6 § 1 de la Convention européenne des droits de l'homme met à la charge des juridictions nationales une obligation de motiver au regard du droit applicable les décisions par lesquelles elles refusent de poser une question préjudicielle demandée par les parties ; qu'en l'espèce, la prévenue a posé une question préjudicielle portant sur l'interprétation des dispositions des règles du droit de l'Union européenne (conclusions devant la cour d'appel, pp. 23 à 26) ; qu'en s'abstenant de motiver sa décision de refus de poser cette question préjudicielle, la cour d'appel n'a pas légalement justifié sa décision au regard des articles 267 du TFUE, 6 § 1 de la Convention européenne des droits de l'homme, préliminaire et 593 du code de procédure pénale. »\\n \\n 10. Le troisième moyen critique l'arrêt attaqué en ce qu'il a confirmé le jugement entrepris sur la culpabilité et l'a condamnée à une amende de 1 500 euros, alors :\\n \\n « 1°/ que tout jugement ou arrêt doit comporter les motifs propres à justifier sa décision et répondre aux chefs péremptoires des conclusions des parties ; que l'insuffisance ou la contradiction des motifs équivaut à leur absence ; que dans ses conclusions d'appel, le conseil de la prévenue faisait notamment valoir, pour conclure à la relaxe, l'impossibilité pour les contrôleurs d'avoir constaté la matérialité de l'infraction, en l'absence de tout contrôle effectué au moment de la période de prise du repos hebdomadaire normal (conclusions, pp. 18 à 23) ; qu'en confirmant le jugement entrepris sur la culpabilité, sans répondre à cette articulation péremptoire, la cour d'appel n'a pas légalement justifié sa décision au regard dispositions du règlement (CE) n° 561/2006 du Parlement européen et du Conseil du 15 mars 2006, des articles R. 3315-11, L. 2213-3 du code des transports, 591 et 593 du code de procédure pénale ;\\n \\n 2°/ qu'en tout état de cause, le conseil de la prévenue faisait valoir, pièces à l'appui, qu'elle avait donné à ses chauffeurs instructions de dormir en dehors de leur cabine lorsqu'il s'agissait d'un repos hebdomadaire normal par affichage au sein de la base de l'entreprise, qu'elle avait fait signer par son chauffeur, Monsieur [S] [E], une déclaration dans laquelle il était attesté qu'il avait connaissance de la règle de l'interdiction de dormir en cabine pendant le repos hebdomadaire normal et qu'elle prenait en charge pour chacun de ses chauffeurs un forfait d'hôtel de 52 euros par jours, pour tous les jours durant lesquelles ils se situaient en dehors de la Pologne (conclusions, pp. 18 à 19) ; qu'en ne répondant pas à ce moyen essentiel pour l'issue des débats dès lors qu'il démontrait que la prévenue s'était conformée à la note de la Commission européenne, la cour d'appel n'a pas légalement justifié sa décision au regard des articles précités. »\\n \\n Réponse de la Cour\\n \\n 11. Les moyens sont réunis.\\n \\n 12. L'article 8 du règlement (CE) n° 561/2006 du Parlement européen et du Conseil du 15 mars 2006 relatif à l'harmonisation de certaines dispositions de la législation sociale dans le domaine des transports par route, modifiant les règlements (CEE) n° 3821/85 et (CE) n° 2135/98 du Conseil et abrogeant le règlement (CEE) n° 3820/85 du Conseil, dispose, en son paragraphe 6, qu'au cours de deux semaines consécutives, un conducteur prend au moins deux temps de repos hebdomadaires normaux, ou un temps de repos hebdomadaire normal et un temps de repos hebdomadaire réduit d'au moins vingt-quatre heures. Toutefois, la réduction est compensée par une période de repos équivalente prise en bloc avant la fin de la troisième semaine suivant la semaine en question. Un temps de repos hebdomadaire commence au plus tard à la fin de six périodes de vingt-quatre heures à compter du temps de repos hebdomadaire précédent. \\n \\n 13. L'article 10 dudit règlement dispose, en son paragraphe 2, que les entreprises de transport organisent le travail des conducteurs visés au paragraphe 1 afin qu'ils puissent se conformer au règlement (CEE) n° 3821/85 et au chapitre II du présent règlement. Les entreprises de transport donnent des instructions appropriées à leurs conducteurs et effectuent des contrôles réguliers pour veiller à ce que le règlement (CEE) n°3821/85 et le chapitre II du présent règlement soient respectés.\\n \\n 14. La Cour de justice de l'Union européenne (CJUE) juge, en application notamment de ces dispositions, qu'un conducteur ne peut pas prendre, à bord de son véhicule, les temps de repos hebdomadaires normaux visés à l'article 8, paragraphe 6, du règlement (CE) n° 561/2006 précité (CJUE, 20 décembre 2017, Vaditrans, C-102/16).\\n \\n 15. Il résulte, par ailleurs, des dispositions des articles L. 3313-3 et R. 3315-11 du code des transports qu'est puni de l'amende prévue pour les contraventions de la cinquième classe le fait de prendre à bord d'un véhicule le repos hebdomadaire normal défini au point h) de l'article 4 du règlement (CE) n° 561/2006 du Parlement européen et du Conseil du 15 mars 2006.\\n \\n 16. Pour rejeter l'exception de nullité relative à la régularité du contrôle et déclarer la société coupable d'infraction à la réglementation sur le repos hebdomadaire dans les transports routiers, l'arrêt attaqué énonce que le repos hebdomadaire relève de la réglementation sociale européenne et, en l'espèce, du règlement (CE) n° 561/2006 du Parlement européen et du Conseil du 15 mars 2006 précité. \\n \\n 17. Les juges exposent que l'article 36 du règlement (UE) n° 165/2014 du 4 février 2014 relatif aux tachygraphes dans les transports routiers prévoit que le conducteur d'un véhicule équipé d'un tachygraphe numérique doit être en mesure de présenter, à toute demande d'un agent habilité, toute information enregistrée manuellement et imprimée pendant la journée en cours et pendant les vingt-huit jours précédents. \\n \\n 18. Ils retiennent que le contrôle effectué a eu lieu deux heures et trente minutes après la fin du repos hebdomadaire, que l'infraction a été constatée dans les deux jours précédant le constat et, par conséquent, a bien été commise dans la période de contrôle autorisée par les normes européennes en vigueur. \\n \\n 19. Ils ajoutent qu'il résulte des constatations du contrôleur, procédant des déclarations du conducteur et de l'examen du chronotachygraphe, que le chauffeur de la société prévenue a passé son repos hebdomadaire, entre le 2 et le 5 octobre 2020, dans la cabine de son véhicule, en méconnaissance des règles édictées en la matière.\\n \\n 20. C'est à tort que la cour d'appel ne motive pas son refus de poser une question préjudicielle à la CJUE portant sur l'interprétation des dispositions du droit européen applicables en matière de prise de repos hebdomadaire normal dans le transport routier dès lors qu'il ressort des conclusions de la société qu'elle a formulé une telle demande. \\n \\n 21. L'arrêt n'encourt cependant pas la censure pour les motifs qui suivent. \\n \\n 22. D'une part, l'infraction à la réglementation sur le repos hebdomadaire dans les transports routiers peut être relevée par les agents assermentés de la DREAL, soit par constatations visuelles opérées au moment de la période de prise du repos hebdomadaire normal, soit postérieurement à celle-ci, par l'analyse du chronotachygraphe du véhicule sur une période allant jusqu'à vingt-huit jours précédant le contrôle conformément aux dispositions de l'article 36 du règlement (UE) n° 165/2014 du Parlement européen et du Conseil du 4 février 2014 relatif aux tachygraphes dans les transports routiers. \\n \\n 23. D'autre part, restreindre la possibilité de constater l'infraction reprochée aux situations de flagrance en s'appuyant sur une lettre de clarification, non datée, émanant de la direction générale de la mobilité et des transports de la Commission européenne adressée à l'International Road Union, au sujet des modalités de contrôle du respect du repos hebdomadaire dans le secteur des transports routiers, laquelle est dépourvue de toute portée normative, reviendrait à limiter la portée des dispositions légales applicables en imposant des conditions qui n'ont été prévues ni par le droit européen, ni par le législateur national. \\n \\n 24. Enfin, il n'y a pas lieu de transmettre la question préjudicielle présentée à titre subsidiaire par la société prévenue, dès lors que l'application des dispositions combinées des articles 8 et 10 du règlement (CE) n° 561/2006 du Parlement européen et du Conseil du 15 mars 2006 telles qu'interprétées par la CJUE, ainsi que celle des articles L. 3313-3 et R. 3315-11 du code des transports pris pour l'application des dispositions européennes précitées, s'impose avec une telle évidence qu'elle ne laisse place à aucun doute raisonnable. \\n \\n 25. Il s'ensuit que le demandeur ne saurait se faire un grief de ce que la cour d'appel ait omis de répondre à sa demande tendant à ce que la CJUE soit saisie de la même question préjudicielle.\\n \\n 26. Les moyens, les seconds griefs des premier et troisième moyens étant inopérants, doivent, dès lors, être écartés. \\n \\n Sur le deuxième moyen\\n \\n Enoncé du moyen\\n \\n 27. Le moyen critique l'arrêt attaqué en ce qu'il a confirmé le jugement entrepris en ce qu'il a rejeté les exceptions de nullité de la procédure tirées de l'absence d'interprète lors du contrôle, du défaut de traduction de l'ordonnance pénale, de l'absence de communication de l'accusation, de l'absence de respect du contradictoire et de l'imprécision du lieu de la commission de la contravention, alors : \\n \\n « 1°/ que de première part, toute personne suspectée ou poursuivie et qui ne comprend pas la langue française a droit, dans une langue qu'elle comprend et jusqu'au terme de la procédure, à l'assistance d'un interprète et, sauf renonciation expresse et éclairée de sa part, à la traduction des pièces essentielles à l'exercice de sa défense et à la garantie du caractère équitable du procès ; qu'ainsi, une ordonnance pénale non traduite est nulle et entraîne en conséquence la relaxe du prévenu ; qu'en l'espèce, en rejetant l'exception de nullité de l'ordonnance pénale pour défaut de traduction aux motifs que « par jugement en date du 8 mars 2022 frappé d'appel, le tribunal de police, en déclarant l'opposition de la société [1], a nécessairement mis à néant l'opposition, de sorte que les moyens soulevés en appel et tenant à l'éventuelle nullité de cette opposition sont devenus sans objet » (arrêt, p. 4), lorsqu'il ressortait pourtant des pièces de la procédure que la prévenue n'avait reçu aucune traduction de l'ordonnance pénale rendue à son encontre en Pologne en langue polonaise, aucune note indiquant qu'elle pouvait obtenir de l'autorité identifiée dans la note des informations, ni aucune traduction de telles informations dans sa langue, la cour d'appel a méconnu les dispositions de la directive du 20 octobre 2010 n° 2010/64/UE du Parlement européen et du Conseil relative au droit à l'interprétation et à la traduction dans le cadre des procédures pénales, des articles 6 de la Convention européenne des droits de l'homme, préliminaire, 803-5, D. 594-6, D. 594-8, 591 et 593 du code de procédure pénale ;\\n 2°/ que de deuxième part, en l'absence de toute mention de la langue du chauffeur ou de toute mention indiquant sa connaissance suffisante de la langue française, le procès-verbal de contrôle réalisé en l'absence de recours à un interprète est nul et entraîne le retrait de la retranscription des déclarations du conducteur ; qu'en l'espèce, il est constant qu'aucun interprète en langue ukrainienne n'a été présent lors de l'audition du chauffeur, Monsieur [E], durant le contrôle opéré par les agents de la DREAL ; que dès lors, en rejetant l'exception de nullité tirée de l'absence d'interprète lors du contrôle aux motifs que figureraient en procédure deux feuillets portant traduction en langue usitée en Ukraine des questions dont la teneur est reprise en français, que le conducteur n'aurait pas fait l'objet d'une audition et que ce document aurait été élaboré par des traducteurs judiciaires (arrêt, p. 5), la cour d'appel n'a pas légalement justifié sa décision au regard des dispositions de la directive du 20 octobre 2010 n° 2010/64/UE du Parlement européen et du Conseil relative au droit à l'interprétation et à la traduction dans le cadre des procédures pénales, des articles 6 de la Convention européenne des droits de l'homme, préliminaire, 803-5, D. 594-16, 591 et 593 du code de procédure pénale ;\\n \\n 3°/ que de troisième part, la notification au prévenu de la nature et la cause de l'accusation portée contre lui, dans une langue qu'elle comprend, doit intervenir dans le plus court délai ; qu'en l'espèce, en rejetant l'exception de nullité tirée de l'absence de communication de la procédure de contrôle aux motifs que « la prévenue a été citée par acte conforme aux dispositions de l'article 551 du code de procédure pénale et dûment traduite en langue polonaise, elle a donc été informée, à charge pour elle d'obtenir copie de la procédure » (arrêt, p. 5), lorsqu'il ressortait pourtant des éléments de la procédure qu'aucune information relative au contrôle n'avait été transmise tant à la prévenue qu'au conducteur, la cour d'appel a méconnu les droits de la défense de la prévenue, en violation des articles 6 de la Convention européenne des droits de l'homme, préliminaire, 591 et 593 du code de procédure pénale ;\\n \\n 4°/ que de quatrième part, en rejetant l'exception de nullité tirée du caractère non-contradictoire de la procédure aux motifs que « ce moyen recoupe le précédent et doit être rejeté pour le même motif » (arrêt, p. 5) sans répondre à l'articulation péremptoire des conclusions qui soutenaient que le procès-verbal de constatation dressé par les agents de la DREAL ne contenait pas les questions posées et n'avait pas été notifié à la prévenue dans une langue qu'elle comprend, la cour d'appel n'a pas davantage justifié sa décision au regard des articles précités. »\\n \\n Réponse de la Cour\\n \\n 28. Pour rejeter les exceptions de nullité de la procédure, l'arrêt attaqué énonce, s'agissant de l'ordonnance pénale, que, par jugement en date du 8 mars 2022 frappé d'appel, le tribunal de police, en déclarant recevable l'opposition de la société, a nécessairement mis à néant celle-ci, de sorte que les moyens soulevés en appel et tenant à l'éventuelle nullité de cette opposition sont devenus sans objet.\\n \\n 29. Les juges ajoutent, pour rejeter l'exception de nullité du procès-verbal de la DREAL tirée de l'absence d'interprète lors du contrôle, que figurent en procédure deux feuillets portant traduction en langue usitée en Ukraine des questions dont la teneur est reprise en français, que le conducteur n'a pas fait l'objet d'une audition, mais qu'il a simplement accepté de renseigner la fiche qui lui était présentée en ukrainien, les réponses qu'il donne étant en cohérence avec les questions posées. \\n \\n 30. Ils précisent que ce document n'est pas issu d'une traduction automatique approximative, comme le soutient la défense, mais d'un document élaboré par des traducteurs judiciaires au même titre que les formulaires de placement en garde à vue dans d'autres procédures et qui permet à la personne intéressée de comprendre le sens du contrôle auquel elle est soumise.\\n \\n 31. Ils soulignent que la traduction libre produite en défense et supposée émaner de M. [E] ne saurait sérieusement être retenue, pas davantage que ce qui semble être une analyse faite par une interprète inscrite sur la liste des experts traducteurs d'une cour d'appel, qui manque de clarté et de pertinence. \\n \\n 32. Ils retiennent encore, pour rejeter l'exception de nullité tirée de l'absence de communication de la procédure de contrôle en langue polonaise, que la société prévenue a été citée par acte conforme aux dispositions de l'article 551 du code de procédure pénale dûment traduit en cette langue, de sorte qu'elle a bien été informée des faits qui lui étaient reprochés, à charge pour elle d'obtenir copie de la procédure, et a pu valablement faire valoir ses arguments et déposer des conclusions. \\n \\n 33. Enfin, pour écarter le grief pris de l'absence de respect du principe du contradictoire, ils renvoient aux motifs par lesquels ils écartent la critique prise de l'absence de traduction de la procédure. \\n \\n 34. En se déterminant ainsi, la cour d'appel a justifié sa décision, pour les motifs qui suivent. \\n \\n 35. En premier lieu, le grief qui invoque la nullité de l'ordonnance pénale motif pris de l'absence de traduction en langue polonaise, alors que l'opposition de la société a eu pour effet de la mettre à néant, est inopérant dès lors que, d'une part, ladite ordonnance pénale a perdu toute force exécutoire, d'autre part, la cour d'appel, aurait-elle même annulé cette ordonnance, les poursuites contre la société n'étaient pas pour autant abandonnées, la citation, dont la prévenue a eu connaissance en langue polonaise, ayant valablement saisi la juridiction. \\n \\n 36. En deuxième lieu, le grief qui reproche à la cour d'appel d'avoir refusé de prononcer la nullité du procès-verbal de la DREAL au motif que faisait défaut la présence d'un interprète lors du contrôle est irrecevable dès lors que la société prévenue n'a pas qualité pour invoquer une telle nullité, le chauffeur routier ayant fait l'objet du contrôle serait-il même son salarié.\\n \\n 37. En troisième lieu, le grief qui reproche à la cour d'appel d'avoir rejeté l'exception de nullité tirée de l'absence de communication de la procédure de contrôle en langue polonaise est non fondé. En effet, d'une part, conformément aux dispositions de l'article D. 594-6 du code de procédure pénale pris en application de l'article 803-5 du même code, qui prévoient, sans préjudice de la possibilité de traduire un document considéré comme essentiel à l'exercice de la défense et à la garantie du caractère équitable du procès, que soient traduites parmi les pièces essentielles de la procédure les décisions de saisine de la juridiction de jugement, l'acte de citation a été traduit en langue polonaise avant d'être adressé à la société prévenue. D'autre part, il ressort des pièces de procédure que la société n'a formulé aucune demande de traduction d'une pièce précise qu'elle estimait essentielle à l'exercice de la défense et à la garantie du caractère équitable du procès, se bornant, dans ses conclusions, à faire valoir qu'aucune traduction ne lui avait été remise.\\n \\n 38. En quatrième et dernier lieu, le grief qui reproche à la cour d'appel d'avoir rejeté l'exception de nullité du procès-verbal tirée de l'absence de respect du principe du contradictoire est également non fondé dès lors que, d'une part, il ne résulte d'aucune exigence légale qu'un tel acte, qui se borne à relever une infraction, doive présenter un caractère contradictoire, d'autre part, la société prévenue est sans qualité pour critiquer l'absence au procès-verbal de la DREAL des questions qui ont été posées au chauffeur, celui-ci serait-il même son salarié. \\n \\n 39. Le moyen ne peut qu'être écarté. \\n \\n 40. Par ailleurs, l'arrêt est régulier en la forme. \\n \\n PAR CES MOTIFS, la Cour : \\n \\n REJETTE le pourvoi ; \\n \\n Ainsi fait et jugé par la Cour de cassation, chambre criminelle, et prononcé par le président en son audience publique du sept janvier deux mille vingt-cinq.\",\n",
       " 'jurisdiction': 'cc',\n",
       " 'chamber': 'cr',\n",
       " 'number': '23-85.930',\n",
       " 'numbers': ['23-85.930'],\n",
       " 'ecli': 'ECLI:FR:CCASS:2025:CR00012',\n",
       " 'formation': 'frh',\n",
       " 'publication': ['b'],\n",
       " 'decision_date': '2025-01-07',\n",
       " 'decision_datetime': '2025-01-06T23:00:00.000Z',\n",
       " 'update_date': '2025-01-07',\n",
       " 'update_datetime': '2025-01-07T14:55:04.298Z',\n",
       " 'solution': 'rejet',\n",
       " 'type': 'other',\n",
       " 'themes': ['transports'],\n",
       " 'nac': None,\n",
       " 'portalis': None,\n",
       " 'files': [],\n",
       " 'zones': {'introduction': [{'start': 0, 'end': 1240}],\n",
       "  'expose': [{'start': 1240, 'end': 2193}],\n",
       "  'moyens': [{'start': 13978, 'end': 18877},\n",
       "   {'start': 2193, 'end': 2289},\n",
       "   {'start': 2421, 'end': 7793}],\n",
       "  'motivations': [{'start': 7793, 'end': 13978},\n",
       "   {'start': 18877, 'end': 24009},\n",
       "   {'start': 2289, 'end': 2421}],\n",
       "  'dispositif': [{'start': 24009, 'end': 24222}]},\n",
       " 'contested': None,\n",
       " 'forward': None,\n",
       " 'timeline': None,\n",
       " 'partial': False,\n",
       " 'visa': [],\n",
       " 'rapprochements': [],\n",
       " 'legacy': {},\n",
       " 'titlesAndSummaries': [{'titles': ['TRANSPORTS'],\n",
       "   'summary': ' ',\n",
       "   'secondaryTitles': []}],\n",
       " 'particularInterest': False}"
      ]
     },
     "execution_count": 5,
     "metadata": {},
     "output_type": "execute_result"
    }
   ],
   "source": [
    "decisions[0]"
   ]
  }
 ],
 "metadata": {
  "kernelspec": {
   "display_name": "Python 3",
   "language": "python",
   "name": "python3"
  },
  "language_info": {
   "codemirror_mode": {
    "name": "ipython",
    "version": 3
   },
   "file_extension": ".py",
   "mimetype": "text/x-python",
   "name": "python",
   "nbconvert_exporter": "python",
   "pygments_lexer": "ipython3",
   "version": "3.13.1"
  }
 },
 "nbformat": 4,
 "nbformat_minor": 2
}
