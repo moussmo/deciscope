{
 "cells": [
  {
   "cell_type": "code",
   "execution_count": 2,
   "metadata": {},
   "outputs": [],
   "source": [
    "import requests "
   ]
  },
  {
   "cell_type": "code",
   "execution_count": 40,
   "metadata": {},
   "outputs": [],
   "source": [
    "p = requests.post('https://sandbox-oauth.piste.gouv.fr/api/oauth/token', \n",
    "                  data={\"grant_type\":\"client_credentials\", \"client_id\":\"69021959-e7d7-4faf-bc79-04bc3fed3bc3\", \"client_secret\":\"3c7b3ad7-169c-43d9-b9ea-a4f03394c61d\", \"scope\":\"openid\"}, \n",
    "                  headers={'Content-Type': 'application/x-www-form-urlencoded'})"
   ]
  },
  {
   "cell_type": "code",
   "execution_count": 48,
   "metadata": {},
   "outputs": [],
   "source": [
    "import ast"
   ]
  },
  {
   "cell_type": "code",
   "execution_count": null,
   "metadata": {},
   "outputs": [],
   "source": [
    "token = ast.literal_eval(p.content.decode('UTF-8'))['access_token']"
   ]
  },
  {
   "cell_type": "code",
   "execution_count": 52,
   "metadata": {},
   "outputs": [],
   "source": [
    "r = requests.get('https://sandbox-api.piste.gouv.fr/cassation/judilibre/v1.0/search', headers= {'accept': 'application/json',\n",
    "\t\t'Authorization': 'Bearer {}'.format(token)})"
   ]
  }
 ],
 "metadata": {
  "kernelspec": {
   "display_name": "Python 3",
   "language": "python",
   "name": "python3"
  },
  "language_info": {
   "codemirror_mode": {
    "name": "ipython",
    "version": 3
   },
   "file_extension": ".py",
   "mimetype": "text/x-python",
   "name": "python",
   "nbconvert_exporter": "python",
   "pygments_lexer": "ipython3",
   "version": "3.13.1"
  }
 },
 "nbformat": 4,
 "nbformat_minor": 2
}
